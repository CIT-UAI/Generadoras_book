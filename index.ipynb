{
  "cells": [
    {
      "cell_type": "markdown",
      "metadata": {},
      "source": [
        "# Preface {.unnumbered}\n",
        "\n",
        "El presente libro digital tiene como objetivo principal ir registrando y documentando el proceso general de un análisis multicriterio espacial para identificar zonas idóneas para la construcción de un determinado proyeto de generación de energía eléctrica. Lo anterior, se enmarca en un proyecto de \"Estándares para un desarrollo más sustentable\" solictado por [Generadoras Chile](http://generadoras.cl) y Diseñado y ejecutado por el [Centro de Inteligencia Territorial](https://cit.uai.cl) de la Universidad Afolfo Ibáñez.\n",
        "\n",
        "\n",
        "\n",
        "\n",
        "```{js, echo = FALSE}\n",
        "title=document.getElementById('header');\n",
        "title.innerHTML = '<img src=\"images/Logo_CIT_UAI_Negro.png\" width=\"350\">' + title.innerHTML\n",
        "```"
      ],
      "id": "38eafd17"
    }
  ],
  "metadata": {
    "kernelspec": {
      "name": "nerf",
      "language": "python",
      "display_name": "Python (nerf)"
    }
  },
  "nbformat": 4,
  "nbformat_minor": 5
}